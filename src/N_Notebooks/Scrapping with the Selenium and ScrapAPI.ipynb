{
 "cells": [
  {
   "cell_type": "code",
   "execution_count": 1,
   "id": "63c4db95",
   "metadata": {},
   "outputs": [],
   "source": [
    "url = 'https://www.amazon.com/PlayStation®5-console-slim-PlayStation-5/dp/B0CL61F39H/ref=asc_df_B0CL61F39H?mcid=c71a2eb0ebfa3eeaabe1ec813ad53e49&hvocijid=5466011738681866402-B0CL61F39H-&hvexpln=73&tag=hyprod-20&linkCode=df0&hvadid=721245378154&hvpos=&hvnetw=g&hvrand=5466011738681866402&hvpone=&hvptwo=&hvqmt=&hvdev=c&hvdvcmdl=&hvlocint=&hvlocphy=9003940&hvtargid=pla-2281435178058&th=1'"
   ]
  },
  {
   "cell_type": "code",
   "execution_count": 2,
   "id": "25246fa9-65eb-4549-8492-dd4c3611d0d4",
   "metadata": {
    "scrolled": true
   },
   "outputs": [
    {
     "name": "stdout",
     "output_type": "stream",
     "text": [
      "SCRAPER_API_KEY = 317d16a5bbe503f27cdadbc86616183d\n"
     ]
    }
   ],
   "source": [
    "from dotenv import load_dotenv\n",
    "import os\n",
    "from pathlib import Path\n",
    "\n",
    "# Notebook is in: src/N_Notebooks\n",
    "# .env is in:      src/.env → go up 1 level\n",
    "env_path = Path().resolve().parent / \".env\"\n",
    "\n",
    "# Load .env from src folder\n",
    "load_dotenv(dotenv_path=env_path)\n",
    "\n",
    "# Print the key\n",
    "print(\"SCRAPER_API_KEY =\", os.getenv(\"SCRAPER_API_KEY\"))"
   ]
  },
  {
   "cell_type": "code",
   "execution_count": null,
   "id": "eb18362b-4ed5-45f0-845a-1e968f91281e",
   "metadata": {},
   "outputs": [],
   "source": []
  },
  {
   "cell_type": "code",
   "execution_count": 3,
   "id": "47370739",
   "metadata": {},
   "outputs": [],
   "source": [
    "import requests\n",
    "import os\n",
    "from dotenv import load_dotenv\n",
    "from pathlib import Path\n",
    "\n",
    "# Load .env from src/\n",
    "env_path = Path().resolve().parent / \".env\"\n",
    "load_dotenv(dotenv_path=env_path)\n",
    "\n",
    "def scrape(url):\n",
    "    api_key = os.getenv(\"SCRAPER_API_KEY\")\n",
    "    if not api_key:\n",
    "        raise ValueError(\"SCRAPER_API_KEY not found\")\n",
    "\n",
    "    params = {\n",
    "        'api_key': api_key,\n",
    "        'url': url,\n",
    "        'render': 'true'\n",
    "    }\n",
    "\n",
    "    response = requests.get(\"http://api.scraperapi.com\", params=params)\n",
    "    response.raise_for_status()\n",
    "    return response.text"
   ]
  },
  {
   "cell_type": "code",
   "execution_count": 4,
   "id": "0ac8b02e",
   "metadata": {},
   "outputs": [
    {
     "name": "stdout",
     "output_type": "stream",
     "text": [
      "<!doctype html><html lang=\"en-us\" class=\"a-no-js\" data-19ax5a9jf=\"dingo\"><!-- sp:feature:head-start -->\n",
      "<head><script>var aPageStart = (new Date()).getTime();</script><meta charset=\"utf-8\"/>\n",
      "<!-- sp:end-feature:head-start -->\n",
      "<!-- sp:feature:csm:head-open-part1 -->\n",
      "\n",
      "<script type='text/javascript'>var ue_t0=ue_t0||+new Date();</script>\n",
      "<!-- sp:end-feature:csm:head-open-part1 -->\n",
      "<!-- sp:feature:cs-optimization -->\n",
      "<meta http-equiv='x-dns-prefetch-control' content='on'>\n",
      "<link rel=\"dns-prefetch\" href=\"https://images-na.ssl-images-amazon.com\">\n",
      "<link rel=\"dns-prefetch\" href=\"https://m.media-amazon.com\">\n",
      "<link rel=\"dns-prefetch\" href=\"https://completion.amazon.com\">\n",
      "<!-- sp:end-feature:cs-optimization -->\n",
      "<!-- sp:feature:csm:head-open-part2 -->\n",
      "<script type='text/javascript'>\n",
      "window.ue_ihb = (window.ue_ihb || window.ueinit || 0) + 1;\n",
      "if (window.ue_ihb === 1) {\n",
      "\n",
      "var ue_csm = window,\n",
      "    ue_hob = +new Date();\n",
      "(function(d){var e=d.ue=d.ue||{},f=Date.now||function(){return+new Date};e.d=function\n"
     ]
    }
   ],
   "source": [
    "html = scrape(url)\n",
    "print(html[:1000])  # Preview HTML"
   ]
  },
  {
   "cell_type": "code",
   "execution_count": null,
   "id": "f82b94cc",
   "metadata": {},
   "outputs": [],
   "source": []
  }
 ],
 "metadata": {
  "kernelspec": {
   "display_name": "Python (NotifyApp)",
   "language": "python",
   "name": "notifyapp-venv"
  },
  "language_info": {
   "codemirror_mode": {
    "name": "ipython",
    "version": 3
   },
   "file_extension": ".py",
   "mimetype": "text/x-python",
   "name": "python",
   "nbconvert_exporter": "python",
   "pygments_lexer": "ipython3",
   "version": "3.11.4"
  }
 },
 "nbformat": 4,
 "nbformat_minor": 5
}
