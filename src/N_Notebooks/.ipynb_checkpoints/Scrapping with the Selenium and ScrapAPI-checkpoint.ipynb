{
 "cells": [
  {
   "cell_type": "code",
   "execution_count": 1,
   "id": "63c4db95",
   "metadata": {},
   "outputs": [],
   "source": [
    "url = 'https://www.amazon.com/PlayStation®5-console-slim-PlayStation-5/dp/B0CL61F39H/ref=asc_df_B0CL61F39H?mcid=c71a2eb0ebfa3eeaabe1ec813ad53e49&hvocijid=5466011738681866402-B0CL61F39H-&hvexpln=73&tag=hyprod-20&linkCode=df0&hvadid=721245378154&hvpos=&hvnetw=g&hvrand=5466011738681866402&hvpone=&hvptwo=&hvqmt=&hvdev=c&hvdvcmdl=&hvlocint=&hvlocphy=9003940&hvtargid=pla-2281435178058&th=1'\n"
   ]
  },
  {
   "cell_type": "code",
   "execution_count": 2,
   "id": "47370739",
   "metadata": {},
   "outputs": [],
   "source": [
    "import requests\n",
    "from decouple import config\n",
    "def scrape(url):\n",
    "    api_key = config(\"SCRAPER_API_KEY\")\n",
    "    params = {\n",
    "        'api_key': api_key,\n",
    "        'url': url,\n",
    "        'render': 'true'  # use 'false' for faster scraping if JS is not needed\n",
    "    }\n",
    "    response = requests.get(\"http://api.scraperapi.com\", params=params)\n",
    "    return response.text\n"
   ]
  },
  {
   "cell_type": "code",
   "execution_count": 3,
   "id": "0ac8b02e",
   "metadata": {},
   "outputs": [
    {
     "ename": "UndefinedValueError",
     "evalue": "SCRAPER_API_KEY not found. Declare it as envvar or define a default value.",
     "output_type": "error",
     "traceback": [
      "\u001b[31m---------------------------------------------------------------------------\u001b[39m",
      "\u001b[31mUndefinedValueError\u001b[39m                       Traceback (most recent call last)",
      "\u001b[36mCell\u001b[39m\u001b[36m \u001b[39m\u001b[32mIn[3]\u001b[39m\u001b[32m, line 1\u001b[39m\n\u001b[32m----> \u001b[39m\u001b[32m1\u001b[39m html = \u001b[43mscrape\u001b[49m\u001b[43m(\u001b[49m\u001b[33;43m\"\u001b[39;49m\u001b[33;43mhttps://www.amazon.com/s?k=ps5\u001b[39;49m\u001b[33;43m\"\u001b[39;49m\u001b[43m)\u001b[49m\n\u001b[32m      2\u001b[39m \u001b[38;5;28mprint\u001b[39m(html[:\u001b[32m1000\u001b[39m])  \u001b[38;5;66;03m# Just to preview first part of page\u001b[39;00m\n",
      "\u001b[36mCell\u001b[39m\u001b[36m \u001b[39m\u001b[32mIn[2]\u001b[39m\u001b[32m, line 4\u001b[39m, in \u001b[36mscrape\u001b[39m\u001b[34m(url)\u001b[39m\n\u001b[32m      3\u001b[39m \u001b[38;5;28;01mdef\u001b[39;00m\u001b[38;5;250m \u001b[39m\u001b[34mscrape\u001b[39m(url):\n\u001b[32m----> \u001b[39m\u001b[32m4\u001b[39m     api_key = \u001b[43mconfig\u001b[49m\u001b[43m(\u001b[49m\u001b[33;43m\"\u001b[39;49m\u001b[33;43mSCRAPER_API_KEY\u001b[39;49m\u001b[33;43m\"\u001b[39;49m\u001b[43m)\u001b[49m\n\u001b[32m      5\u001b[39m     params = {\n\u001b[32m      6\u001b[39m         \u001b[33m'\u001b[39m\u001b[33mapi_key\u001b[39m\u001b[33m'\u001b[39m: api_key,\n\u001b[32m      7\u001b[39m         \u001b[33m'\u001b[39m\u001b[33murl\u001b[39m\u001b[33m'\u001b[39m: url,\n\u001b[32m      8\u001b[39m         \u001b[33m'\u001b[39m\u001b[33mrender\u001b[39m\u001b[33m'\u001b[39m: \u001b[33m'\u001b[39m\u001b[33mtrue\u001b[39m\u001b[33m'\u001b[39m  \u001b[38;5;66;03m# use 'false' for faster scraping if JS is not needed\u001b[39;00m\n\u001b[32m      9\u001b[39m     }\n\u001b[32m     10\u001b[39m     response = requests.get(\u001b[33m\"\u001b[39m\u001b[33mhttp://api.scraperapi.com\u001b[39m\u001b[33m\"\u001b[39m, params=params)\n",
      "\u001b[36mFile \u001b[39m\u001b[32m~/Documents/NotifyApp/venv/lib/python3.11/site-packages/decouple.py:248\u001b[39m, in \u001b[36mAutoConfig.__call__\u001b[39m\u001b[34m(self, *args, **kwargs)\u001b[39m\n\u001b[32m    245\u001b[39m \u001b[38;5;28;01mif\u001b[39;00m \u001b[38;5;129;01mnot\u001b[39;00m \u001b[38;5;28mself\u001b[39m.config:\n\u001b[32m    246\u001b[39m     \u001b[38;5;28mself\u001b[39m._load(\u001b[38;5;28mself\u001b[39m.search_path \u001b[38;5;129;01mor\u001b[39;00m \u001b[38;5;28mself\u001b[39m._caller_path())\n\u001b[32m--> \u001b[39m\u001b[32m248\u001b[39m \u001b[38;5;28;01mreturn\u001b[39;00m \u001b[38;5;28;43mself\u001b[39;49m\u001b[43m.\u001b[49m\u001b[43mconfig\u001b[49m\u001b[43m(\u001b[49m\u001b[43m*\u001b[49m\u001b[43margs\u001b[49m\u001b[43m,\u001b[49m\u001b[43m \u001b[49m\u001b[43m*\u001b[49m\u001b[43m*\u001b[49m\u001b[43mkwargs\u001b[49m\u001b[43m)\u001b[49m\n",
      "\u001b[36mFile \u001b[39m\u001b[32m~/Documents/NotifyApp/venv/lib/python3.11/site-packages/decouple.py:107\u001b[39m, in \u001b[36mConfig.__call__\u001b[39m\u001b[34m(self, *args, **kwargs)\u001b[39m\n\u001b[32m    103\u001b[39m \u001b[38;5;28;01mdef\u001b[39;00m\u001b[38;5;250m \u001b[39m\u001b[34m__call__\u001b[39m(\u001b[38;5;28mself\u001b[39m, *args, **kwargs):\n\u001b[32m    104\u001b[39m \u001b[38;5;250m    \u001b[39m\u001b[33;03m\"\"\"\u001b[39;00m\n\u001b[32m    105\u001b[39m \u001b[33;03m    Convenient shortcut to get.\u001b[39;00m\n\u001b[32m    106\u001b[39m \u001b[33;03m    \"\"\"\u001b[39;00m\n\u001b[32m--> \u001b[39m\u001b[32m107\u001b[39m     \u001b[38;5;28;01mreturn\u001b[39;00m \u001b[38;5;28;43mself\u001b[39;49m\u001b[43m.\u001b[49m\u001b[43mget\u001b[49m\u001b[43m(\u001b[49m\u001b[43m*\u001b[49m\u001b[43margs\u001b[49m\u001b[43m,\u001b[49m\u001b[43m \u001b[49m\u001b[43m*\u001b[49m\u001b[43m*\u001b[49m\u001b[43mkwargs\u001b[49m\u001b[43m)\u001b[49m\n",
      "\u001b[36mFile \u001b[39m\u001b[32m~/Documents/NotifyApp/venv/lib/python3.11/site-packages/decouple.py:92\u001b[39m, in \u001b[36mConfig.get\u001b[39m\u001b[34m(self, option, default, cast)\u001b[39m\n\u001b[32m     90\u001b[39m \u001b[38;5;28;01melse\u001b[39;00m:\n\u001b[32m     91\u001b[39m     \u001b[38;5;28;01mif\u001b[39;00m \u001b[38;5;28misinstance\u001b[39m(default, Undefined):\n\u001b[32m---> \u001b[39m\u001b[32m92\u001b[39m         \u001b[38;5;28;01mraise\u001b[39;00m UndefinedValueError(\u001b[33m'\u001b[39m\u001b[38;5;132;01m{}\u001b[39;00m\u001b[33m not found. Declare it as envvar or define a default value.\u001b[39m\u001b[33m'\u001b[39m.format(option))\n\u001b[32m     94\u001b[39m     value = default\n\u001b[32m     96\u001b[39m \u001b[38;5;28;01mif\u001b[39;00m \u001b[38;5;28misinstance\u001b[39m(cast, Undefined):\n",
      "\u001b[31mUndefinedValueError\u001b[39m: SCRAPER_API_KEY not found. Declare it as envvar or define a default value."
     ]
    }
   ],
   "source": [
    "html = scrape(\"https://www.amazon.com/s?k=ps5\")\n",
    "print(html[:1000])  # Just to preview first part of page"
   ]
  },
  {
   "cell_type": "code",
   "execution_count": null,
   "id": "f82b94cc",
   "metadata": {},
   "outputs": [],
   "source": []
  }
 ],
 "metadata": {
  "kernelspec": {
   "display_name": "Python (NotifyApp)",
   "language": "python",
   "name": "notifyapp-venv"
  },
  "language_info": {
   "codemirror_mode": {
    "name": "ipython",
    "version": 3
   },
   "file_extension": ".py",
   "mimetype": "text/x-python",
   "name": "python",
   "nbconvert_exporter": "python",
   "pygments_lexer": "ipython3",
   "version": "3.11.4"
  }
 },
 "nbformat": 4,
 "nbformat_minor": 5
}
